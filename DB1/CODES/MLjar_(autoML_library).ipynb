{
  "cells": [
    {
      "cell_type": "markdown",
      "metadata": {
        "id": "Xo0MTEvuGgFM"
      },
      "source": [
        "[20 autoML ](https://medium.com/datadriveninvestor/20-automl-libraries-for-the-data-scientists-e591068dbc6b)\n",
        "\n",
        "https://github.com/mljar/mljar-supervised\n",
        "\n",
        "https://mljar.com/automl/\n",
        "\n"
      ]
    },
    {
      "cell_type": "code",
      "execution_count": 2,
      "metadata": {
        "colab": {
          "base_uri": "https://localhost:8080/"
        },
        "id": "n_I_04rnGc0R",
        "outputId": "250d871d-13eb-4594-b7ec-d84f93d0f14d"
      },
      "outputs": [
        {
          "output_type": "stream",
          "name": "stdout",
          "text": [
            "Requirement already satisfied: lightwood in /usr/local/lib/python3.7/dist-packages (22.2.3.0)\n",
            "Requirement already satisfied: numpy<=1.20,>=1.16.2 in /usr/local/lib/python3.7/dist-packages (from lightwood) (1.20.0)\n",
            "Requirement already satisfied: scipy<=1.7.1,>=1.5.4 in /usr/local/lib/python3.7/dist-packages (from lightwood) (1.7.1)\n",
            "Requirement already satisfied: langdetect<=1.0.9,>=1.0.0 in /usr/local/lib/python3.7/dist-packages (from lightwood) (1.0.9)\n",
            "Requirement already satisfied: schema>=0.6.8 in /usr/local/lib/python3.7/dist-packages (from lightwood) (0.7.5)\n",
            "Requirement already satisfied: transformers<=4.11.3,>=4.5.0 in /usr/local/lib/python3.7/dist-packages (from lightwood) (4.11.3)\n",
            "Requirement already satisfied: black>=21.9b0 in /usr/local/lib/python3.7/dist-packages (from lightwood) (22.1.0)\n",
            "Requirement already satisfied: requests>=2.0.0 in /usr/local/lib/python3.7/dist-packages (from lightwood) (2.23.0)\n",
            "Requirement already satisfied: psutil>=5.7.0 in /usr/local/lib/python3.7/dist-packages (from lightwood) (5.9.0)\n",
            "Requirement already satisfied: python-dateutil<2.8.1,>=2.1 in /usr/local/lib/python3.7/dist-packages (from lightwood) (2.8.0)\n",
            "Requirement already satisfied: torch<1.10.0,>=1.9.0 in /usr/local/lib/python3.7/dist-packages (from lightwood) (1.9.1)\n",
            "Requirement already satisfied: dataclasses-json>=0.5.4 in /usr/local/lib/python3.7/dist-packages (from lightwood) (0.5.6)\n",
            "Requirement already satisfied: sktime<=0.8.0,>=0.5.0 in /usr/local/lib/python3.7/dist-packages (from lightwood) (0.8.0)\n",
            "Requirement already satisfied: optuna<2.10.0,>=2.8.0 in /usr/local/lib/python3.7/dist-packages (from lightwood) (2.9.1)\n",
            "Requirement already satisfied: setuptools>=21.2.1 in /usr/local/lib/python3.7/dist-packages (from lightwood) (57.4.0)\n",
            "Requirement already satisfied: colorlog==6.5.0 in /usr/local/lib/python3.7/dist-packages (from lightwood) (6.5.0)\n",
            "Requirement already satisfied: torch-optimizer==0.1.0 in /usr/local/lib/python3.7/dist-packages (from lightwood) (0.1.0)\n",
            "Requirement already satisfied: pandas<=1.3.3,>=1.1.5 in /usr/local/lib/python3.7/dist-packages (from lightwood) (1.3.3)\n",
            "Requirement already satisfied: lightgbm<=3.3.0,>=3.1.1 in /usr/local/lib/python3.7/dist-packages (from lightwood) (3.3.0)\n",
            "Requirement already satisfied: typing-extensions in /usr/local/lib/python3.7/dist-packages (from lightwood) (3.10.0.2)\n",
            "Requirement already satisfied: pmdarima<=1.8.3,>=1.8.0 in /usr/local/lib/python3.7/dist-packages (from lightwood) (1.8.3)\n",
            "Collecting scikit-learn<=0.24.2\n",
            "  Using cached scikit_learn-0.24.2-cp37-cp37m-manylinux2010_x86_64.whl (22.3 MB)\n",
            "Requirement already satisfied: wheel>=0.32.2 in /usr/local/lib/python3.7/dist-packages (from lightwood) (0.37.1)\n",
            "Requirement already satisfied: NLTK<3.6,>=3 in /usr/local/lib/python3.7/dist-packages (from lightwood) (3.2.5)\n",
            "Requirement already satisfied: autopep8>=1.5.7 in /usr/local/lib/python3.7/dist-packages (from lightwood) (1.6.0)\n",
            "Requirement already satisfied: dill==0.3.4 in /usr/local/lib/python3.7/dist-packages (from lightwood) (0.3.4)\n",
            "Requirement already satisfied: pytorch-ranger>=0.1.1 in /usr/local/lib/python3.7/dist-packages (from torch-optimizer==0.1.0->lightwood) (0.1.1)\n",
            "Requirement already satisfied: toml in /usr/local/lib/python3.7/dist-packages (from autopep8>=1.5.7->lightwood) (0.10.2)\n",
            "Requirement already satisfied: pycodestyle>=2.8.0 in /usr/local/lib/python3.7/dist-packages (from autopep8>=1.5.7->lightwood) (2.8.0)\n",
            "Requirement already satisfied: click>=8.0.0 in /usr/local/lib/python3.7/dist-packages (from black>=21.9b0->lightwood) (8.0.4)\n",
            "Requirement already satisfied: platformdirs>=2 in /usr/local/lib/python3.7/dist-packages (from black>=21.9b0->lightwood) (2.5.1)\n",
            "Requirement already satisfied: mypy-extensions>=0.4.3 in /usr/local/lib/python3.7/dist-packages (from black>=21.9b0->lightwood) (0.4.3)\n",
            "Requirement already satisfied: pathspec>=0.9.0 in /usr/local/lib/python3.7/dist-packages (from black>=21.9b0->lightwood) (0.9.0)\n",
            "Requirement already satisfied: typed-ast>=1.4.2 in /usr/local/lib/python3.7/dist-packages (from black>=21.9b0->lightwood) (1.5.2)\n",
            "Requirement already satisfied: tomli>=1.1.0 in /usr/local/lib/python3.7/dist-packages (from black>=21.9b0->lightwood) (2.0.1)\n",
            "Requirement already satisfied: importlib-metadata in /usr/local/lib/python3.7/dist-packages (from click>=8.0.0->black>=21.9b0->lightwood) (4.11.2)\n",
            "Requirement already satisfied: marshmallow<4.0.0,>=3.3.0 in /usr/local/lib/python3.7/dist-packages (from dataclasses-json>=0.5.4->lightwood) (3.15.0)\n",
            "Requirement already satisfied: typing-inspect>=0.4.0 in /usr/local/lib/python3.7/dist-packages (from dataclasses-json>=0.5.4->lightwood) (0.7.1)\n",
            "Requirement already satisfied: marshmallow-enum<2.0.0,>=1.5.1 in /usr/local/lib/python3.7/dist-packages (from dataclasses-json>=0.5.4->lightwood) (1.5.1)\n",
            "Requirement already satisfied: six in /usr/local/lib/python3.7/dist-packages (from langdetect<=1.0.9,>=1.0.0->lightwood) (1.15.0)\n",
            "Requirement already satisfied: packaging in /usr/local/lib/python3.7/dist-packages (from marshmallow<4.0.0,>=3.3.0->dataclasses-json>=0.5.4->lightwood) (21.3)\n",
            "Requirement already satisfied: alembic in /usr/local/lib/python3.7/dist-packages (from optuna<2.10.0,>=2.8.0->lightwood) (1.7.7)\n",
            "Requirement already satisfied: cliff in /usr/local/lib/python3.7/dist-packages (from optuna<2.10.0,>=2.8.0->lightwood) (3.10.1)\n",
            "Requirement already satisfied: PyYAML in /usr/local/lib/python3.7/dist-packages (from optuna<2.10.0,>=2.8.0->lightwood) (6.0)\n",
            "Requirement already satisfied: cmaes>=0.8.2 in /usr/local/lib/python3.7/dist-packages (from optuna<2.10.0,>=2.8.0->lightwood) (0.8.2)\n",
            "Requirement already satisfied: sqlalchemy>=1.1.0 in /usr/local/lib/python3.7/dist-packages (from optuna<2.10.0,>=2.8.0->lightwood) (1.4.32)\n",
            "Requirement already satisfied: tqdm in /usr/local/lib/python3.7/dist-packages (from optuna<2.10.0,>=2.8.0->lightwood) (4.63.0)\n",
            "Requirement already satisfied: pyparsing!=3.0.5,>=2.0.2 in /usr/local/lib/python3.7/dist-packages (from packaging->marshmallow<4.0.0,>=3.3.0->dataclasses-json>=0.5.4->lightwood) (3.0.7)\n",
            "Requirement already satisfied: pytz>=2017.3 in /usr/local/lib/python3.7/dist-packages (from pandas<=1.3.3,>=1.1.5->lightwood) (2018.9)\n",
            "Requirement already satisfied: joblib>=0.11 in /usr/local/lib/python3.7/dist-packages (from pmdarima<=1.8.3,>=1.8.0->lightwood) (1.1.0)\n",
            "Requirement already satisfied: statsmodels!=0.12.0,>=0.11 in /usr/local/lib/python3.7/dist-packages (from pmdarima<=1.8.3,>=1.8.0->lightwood) (0.13.2)\n",
            "Requirement already satisfied: urllib3 in /usr/local/lib/python3.7/dist-packages (from pmdarima<=1.8.3,>=1.8.0->lightwood) (1.24.3)\n",
            "Requirement already satisfied: Cython!=0.29.18,>=0.29 in /usr/local/lib/python3.7/dist-packages (from pmdarima<=1.8.3,>=1.8.0->lightwood) (0.29.28)\n",
            "Requirement already satisfied: certifi>=2017.4.17 in /usr/local/lib/python3.7/dist-packages (from requests>=2.0.0->lightwood) (2021.10.8)\n",
            "Requirement already satisfied: idna<3,>=2.5 in /usr/local/lib/python3.7/dist-packages (from requests>=2.0.0->lightwood) (2.10)\n",
            "Requirement already satisfied: chardet<4,>=3.0.2 in /usr/local/lib/python3.7/dist-packages (from requests>=2.0.0->lightwood) (3.0.4)\n",
            "Requirement already satisfied: contextlib2>=0.5.5 in /usr/local/lib/python3.7/dist-packages (from schema>=0.6.8->lightwood) (0.5.5)\n",
            "Requirement already satisfied: threadpoolctl>=2.0.0 in /usr/local/lib/python3.7/dist-packages (from scikit-learn<=0.24.2->lightwood) (3.1.0)\n",
            "Requirement already satisfied: numba>=0.53 in /usr/local/lib/python3.7/dist-packages (from sktime<=0.8.0,>=0.5.0->lightwood) (0.55.1)\n",
            "Requirement already satisfied: llvmlite<0.39,>=0.38.0rc1 in /usr/local/lib/python3.7/dist-packages (from numba>=0.53->sktime<=0.8.0,>=0.5.0->lightwood) (0.38.0)\n",
            "Requirement already satisfied: greenlet!=0.4.17 in /usr/local/lib/python3.7/dist-packages (from sqlalchemy>=1.1.0->optuna<2.10.0,>=2.8.0->lightwood) (1.1.2)\n",
            "Requirement already satisfied: patsy>=0.5.2 in /usr/local/lib/python3.7/dist-packages (from statsmodels!=0.12.0,>=0.11->pmdarima<=1.8.3,>=1.8.0->lightwood) (0.5.2)\n",
            "Requirement already satisfied: regex!=2019.12.17 in /usr/local/lib/python3.7/dist-packages (from transformers<=4.11.3,>=4.5.0->lightwood) (2019.12.20)\n",
            "Requirement already satisfied: filelock in /usr/local/lib/python3.7/dist-packages (from transformers<=4.11.3,>=4.5.0->lightwood) (3.6.0)\n",
            "Requirement already satisfied: tokenizers<0.11,>=0.10.1 in /usr/local/lib/python3.7/dist-packages (from transformers<=4.11.3,>=4.5.0->lightwood) (0.10.3)\n",
            "Requirement already satisfied: sacremoses in /usr/local/lib/python3.7/dist-packages (from transformers<=4.11.3,>=4.5.0->lightwood) (0.0.49)\n",
            "Requirement already satisfied: huggingface-hub>=0.0.17 in /usr/local/lib/python3.7/dist-packages (from transformers<=4.11.3,>=4.5.0->lightwood) (0.4.0)\n",
            "Requirement already satisfied: importlib-resources in /usr/local/lib/python3.7/dist-packages (from alembic->optuna<2.10.0,>=2.8.0->lightwood) (5.4.0)\n",
            "Requirement already satisfied: Mako in /usr/local/lib/python3.7/dist-packages (from alembic->optuna<2.10.0,>=2.8.0->lightwood) (1.2.0)\n",
            "Requirement already satisfied: cmd2>=1.0.0 in /usr/local/lib/python3.7/dist-packages (from cliff->optuna<2.10.0,>=2.8.0->lightwood) (2.4.0)\n",
            "Requirement already satisfied: pbr!=2.1.0,>=2.0.0 in /usr/local/lib/python3.7/dist-packages (from cliff->optuna<2.10.0,>=2.8.0->lightwood) (5.8.1)\n",
            "Requirement already satisfied: PrettyTable>=0.7.2 in /usr/local/lib/python3.7/dist-packages (from cliff->optuna<2.10.0,>=2.8.0->lightwood) (3.2.0)\n",
            "Requirement already satisfied: autopage>=0.4.0 in /usr/local/lib/python3.7/dist-packages (from cliff->optuna<2.10.0,>=2.8.0->lightwood) (0.5.0)\n",
            "Requirement already satisfied: stevedore>=2.0.1 in /usr/local/lib/python3.7/dist-packages (from cliff->optuna<2.10.0,>=2.8.0->lightwood) (3.5.0)\n",
            "Requirement already satisfied: attrs>=16.3.0 in /usr/local/lib/python3.7/dist-packages (from cmd2>=1.0.0->cliff->optuna<2.10.0,>=2.8.0->lightwood) (21.4.0)\n",
            "Requirement already satisfied: wcwidth>=0.1.7 in /usr/local/lib/python3.7/dist-packages (from cmd2>=1.0.0->cliff->optuna<2.10.0,>=2.8.0->lightwood) (0.2.5)\n",
            "Requirement already satisfied: pyperclip>=1.6 in /usr/local/lib/python3.7/dist-packages (from cmd2>=1.0.0->cliff->optuna<2.10.0,>=2.8.0->lightwood) (1.8.2)\n",
            "Requirement already satisfied: zipp>=0.5 in /usr/local/lib/python3.7/dist-packages (from importlib-metadata->click>=8.0.0->black>=21.9b0->lightwood) (3.7.0)\n",
            "Requirement already satisfied: MarkupSafe>=0.9.2 in /usr/local/lib/python3.7/dist-packages (from Mako->alembic->optuna<2.10.0,>=2.8.0->lightwood) (2.0.1)\n",
            "Installing collected packages: scikit-learn\n",
            "  Attempting uninstall: scikit-learn\n",
            "    Found existing installation: scikit-learn 1.0.2\n",
            "    Uninstalling scikit-learn-1.0.2:\n",
            "      Successfully uninstalled scikit-learn-1.0.2\n",
            "\u001b[31mERROR: pip's dependency resolver does not currently take into account all the packages that are installed. This behaviour is the source of the following dependency conflicts.\n",
            "yellowbrick 1.4 requires scikit-learn>=1.0.0, but you have scikit-learn 0.24.2 which is incompatible.\n",
            "mljar-supervised 0.11.2 requires scikit-learn>=1.0, but you have scikit-learn 0.24.2 which is incompatible.\u001b[0m\n",
            "Successfully installed scikit-learn-0.24.2\n"
          ]
        }
      ],
      "source": [
        "pip install lightwood"
      ]
    },
    {
      "cell_type": "code",
      "execution_count": 1,
      "metadata": {
        "colab": {
          "base_uri": "https://localhost:8080/"
        },
        "id": "Qr6mOcoQp1-k",
        "outputId": "e4459a37-d616-4613-f0ef-1dffc0063480"
      },
      "outputs": [
        {
          "output_type": "stream",
          "name": "stdout",
          "text": [
            "Requirement already satisfied: mljar-supervised in /usr/local/lib/python3.7/dist-packages (0.11.2)\n",
            "Requirement already satisfied: matplotlib>=3.2.2 in /usr/local/lib/python3.7/dist-packages (from mljar-supervised) (3.2.2)\n",
            "Requirement already satisfied: numpy>=1.19.5 in /usr/local/lib/python3.7/dist-packages (from mljar-supervised) (1.20.0)\n",
            "Requirement already satisfied: markdown in /usr/local/lib/python3.7/dist-packages (from mljar-supervised) (3.3.6)\n",
            "Requirement already satisfied: typing-extensions in /usr/local/lib/python3.7/dist-packages (from mljar-supervised) (3.10.0.2)\n",
            "Requirement already satisfied: tabulate>=0.8.7 in /usr/local/lib/python3.7/dist-packages (from mljar-supervised) (0.8.9)\n",
            "Requirement already satisfied: catboost>=0.24.4 in /usr/local/lib/python3.7/dist-packages (from mljar-supervised) (1.0.4)\n",
            "Requirement already satisfied: dtreeviz>=1.3.3 in /usr/local/lib/python3.7/dist-packages (from mljar-supervised) (1.3.5)\n",
            "Requirement already satisfied: xgboost>=1.3.3 in /usr/local/lib/python3.7/dist-packages (from mljar-supervised) (1.5.2)\n",
            "Requirement already satisfied: seaborn>=0.11.1 in /usr/local/lib/python3.7/dist-packages (from mljar-supervised) (0.11.2)\n",
            "Requirement already satisfied: optuna>=2.7.0 in /usr/local/lib/python3.7/dist-packages (from mljar-supervised) (2.9.1)\n",
            "Requirement already satisfied: scikit-learn>=1.0 in /usr/local/lib/python3.7/dist-packages (from mljar-supervised) (1.0.2)\n",
            "Requirement already satisfied: shap==0.36.0 in /usr/local/lib/python3.7/dist-packages (from mljar-supervised) (0.36.0)\n",
            "Requirement already satisfied: scikit-plot==0.3.7 in /usr/local/lib/python3.7/dist-packages (from mljar-supervised) (0.3.7)\n",
            "Requirement already satisfied: joblib>=1.0.1 in /usr/local/lib/python3.7/dist-packages (from mljar-supervised) (1.1.0)\n",
            "Requirement already satisfied: scipy>=1.6.1 in /usr/local/lib/python3.7/dist-packages (from mljar-supervised) (1.7.1)\n",
            "Requirement already satisfied: wordcloud>=1.8.1 in /usr/local/lib/python3.7/dist-packages (from mljar-supervised) (1.8.1)\n",
            "Requirement already satisfied: lightgbm>=3.0.0 in /usr/local/lib/python3.7/dist-packages (from mljar-supervised) (3.3.0)\n",
            "Requirement already satisfied: pandas>=1.2.0 in /usr/local/lib/python3.7/dist-packages (from mljar-supervised) (1.3.3)\n",
            "Requirement already satisfied: category-encoders>=2.2.2 in /usr/local/lib/python3.7/dist-packages (from mljar-supervised) (2.4.0)\n",
            "Requirement already satisfied: slicer in /usr/local/lib/python3.7/dist-packages (from shap==0.36.0->mljar-supervised) (0.0.7)\n",
            "Requirement already satisfied: tqdm>4.25.0 in /usr/local/lib/python3.7/dist-packages (from shap==0.36.0->mljar-supervised) (4.63.0)\n",
            "Requirement already satisfied: numba in /usr/local/lib/python3.7/dist-packages (from shap==0.36.0->mljar-supervised) (0.55.1)\n",
            "Requirement already satisfied: graphviz in /usr/local/lib/python3.7/dist-packages (from catboost>=0.24.4->mljar-supervised) (0.10.1)\n",
            "Requirement already satisfied: six in /usr/local/lib/python3.7/dist-packages (from catboost>=0.24.4->mljar-supervised) (1.15.0)\n",
            "Requirement already satisfied: plotly in /usr/local/lib/python3.7/dist-packages (from catboost>=0.24.4->mljar-supervised) (5.5.0)\n",
            "Requirement already satisfied: patsy>=0.5.1 in /usr/local/lib/python3.7/dist-packages (from category-encoders>=2.2.2->mljar-supervised) (0.5.2)\n",
            "Requirement already satisfied: statsmodels>=0.9.0 in /usr/local/lib/python3.7/dist-packages (from category-encoders>=2.2.2->mljar-supervised) (0.13.2)\n",
            "Requirement already satisfied: colour in /usr/local/lib/python3.7/dist-packages (from dtreeviz>=1.3.3->mljar-supervised) (0.1.5)\n",
            "Requirement already satisfied: pytest in /usr/local/lib/python3.7/dist-packages (from dtreeviz>=1.3.3->mljar-supervised) (3.6.4)\n",
            "Requirement already satisfied: wheel in /usr/local/lib/python3.7/dist-packages (from lightgbm>=3.0.0->mljar-supervised) (0.37.1)\n",
            "Requirement already satisfied: python-dateutil>=2.1 in /usr/local/lib/python3.7/dist-packages (from matplotlib>=3.2.2->mljar-supervised) (2.8.0)\n",
            "Requirement already satisfied: pyparsing!=2.0.4,!=2.1.2,!=2.1.6,>=2.0.1 in /usr/local/lib/python3.7/dist-packages (from matplotlib>=3.2.2->mljar-supervised) (3.0.7)\n",
            "Requirement already satisfied: kiwisolver>=1.0.1 in /usr/local/lib/python3.7/dist-packages (from matplotlib>=3.2.2->mljar-supervised) (1.3.2)\n",
            "Requirement already satisfied: cycler>=0.10 in /usr/local/lib/python3.7/dist-packages (from matplotlib>=3.2.2->mljar-supervised) (0.11.0)\n",
            "Requirement already satisfied: cliff in /usr/local/lib/python3.7/dist-packages (from optuna>=2.7.0->mljar-supervised) (3.10.1)\n",
            "Requirement already satisfied: alembic in /usr/local/lib/python3.7/dist-packages (from optuna>=2.7.0->mljar-supervised) (1.7.7)\n",
            "Requirement already satisfied: packaging>=20.0 in /usr/local/lib/python3.7/dist-packages (from optuna>=2.7.0->mljar-supervised) (21.3)\n",
            "Requirement already satisfied: colorlog in /usr/local/lib/python3.7/dist-packages (from optuna>=2.7.0->mljar-supervised) (6.5.0)\n",
            "Requirement already satisfied: sqlalchemy>=1.1.0 in /usr/local/lib/python3.7/dist-packages (from optuna>=2.7.0->mljar-supervised) (1.4.32)\n",
            "Requirement already satisfied: cmaes>=0.8.2 in /usr/local/lib/python3.7/dist-packages (from optuna>=2.7.0->mljar-supervised) (0.8.2)\n",
            "Requirement already satisfied: PyYAML in /usr/local/lib/python3.7/dist-packages (from optuna>=2.7.0->mljar-supervised) (6.0)\n",
            "Requirement already satisfied: pytz>=2017.3 in /usr/local/lib/python3.7/dist-packages (from pandas>=1.2.0->mljar-supervised) (2018.9)\n",
            "Requirement already satisfied: threadpoolctl>=2.0.0 in /usr/local/lib/python3.7/dist-packages (from scikit-learn>=1.0->mljar-supervised) (3.1.0)\n",
            "Requirement already satisfied: greenlet!=0.4.17 in /usr/local/lib/python3.7/dist-packages (from sqlalchemy>=1.1.0->optuna>=2.7.0->mljar-supervised) (1.1.2)\n",
            "Requirement already satisfied: importlib-metadata in /usr/local/lib/python3.7/dist-packages (from sqlalchemy>=1.1.0->optuna>=2.7.0->mljar-supervised) (4.11.2)\n",
            "Requirement already satisfied: pillow in /usr/local/lib/python3.7/dist-packages (from wordcloud>=1.8.1->mljar-supervised) (7.1.2)\n",
            "Requirement already satisfied: importlib-resources in /usr/local/lib/python3.7/dist-packages (from alembic->optuna>=2.7.0->mljar-supervised) (5.4.0)\n",
            "Requirement already satisfied: Mako in /usr/local/lib/python3.7/dist-packages (from alembic->optuna>=2.7.0->mljar-supervised) (1.2.0)\n",
            "Requirement already satisfied: pbr!=2.1.0,>=2.0.0 in /usr/local/lib/python3.7/dist-packages (from cliff->optuna>=2.7.0->mljar-supervised) (5.8.1)\n",
            "Requirement already satisfied: autopage>=0.4.0 in /usr/local/lib/python3.7/dist-packages (from cliff->optuna>=2.7.0->mljar-supervised) (0.5.0)\n",
            "Requirement already satisfied: PrettyTable>=0.7.2 in /usr/local/lib/python3.7/dist-packages (from cliff->optuna>=2.7.0->mljar-supervised) (3.2.0)\n",
            "Requirement already satisfied: cmd2>=1.0.0 in /usr/local/lib/python3.7/dist-packages (from cliff->optuna>=2.7.0->mljar-supervised) (2.4.0)\n",
            "Requirement already satisfied: stevedore>=2.0.1 in /usr/local/lib/python3.7/dist-packages (from cliff->optuna>=2.7.0->mljar-supervised) (3.5.0)\n",
            "Requirement already satisfied: pyperclip>=1.6 in /usr/local/lib/python3.7/dist-packages (from cmd2>=1.0.0->cliff->optuna>=2.7.0->mljar-supervised) (1.8.2)\n",
            "Requirement already satisfied: wcwidth>=0.1.7 in /usr/local/lib/python3.7/dist-packages (from cmd2>=1.0.0->cliff->optuna>=2.7.0->mljar-supervised) (0.2.5)\n",
            "Requirement already satisfied: attrs>=16.3.0 in /usr/local/lib/python3.7/dist-packages (from cmd2>=1.0.0->cliff->optuna>=2.7.0->mljar-supervised) (21.4.0)\n",
            "Requirement already satisfied: zipp>=0.5 in /usr/local/lib/python3.7/dist-packages (from importlib-metadata->sqlalchemy>=1.1.0->optuna>=2.7.0->mljar-supervised) (3.7.0)\n",
            "Requirement already satisfied: MarkupSafe>=0.9.2 in /usr/local/lib/python3.7/dist-packages (from Mako->alembic->optuna>=2.7.0->mljar-supervised) (2.0.1)\n",
            "Requirement already satisfied: llvmlite<0.39,>=0.38.0rc1 in /usr/local/lib/python3.7/dist-packages (from numba->shap==0.36.0->mljar-supervised) (0.38.0)\n",
            "Requirement already satisfied: setuptools in /usr/local/lib/python3.7/dist-packages (from numba->shap==0.36.0->mljar-supervised) (57.4.0)\n",
            "Requirement already satisfied: tenacity>=6.2.0 in /usr/local/lib/python3.7/dist-packages (from plotly->catboost>=0.24.4->mljar-supervised) (8.0.1)\n",
            "Requirement already satisfied: more-itertools>=4.0.0 in /usr/local/lib/python3.7/dist-packages (from pytest->dtreeviz>=1.3.3->mljar-supervised) (8.12.0)\n",
            "Requirement already satisfied: py>=1.5.0 in /usr/local/lib/python3.7/dist-packages (from pytest->dtreeviz>=1.3.3->mljar-supervised) (1.11.0)\n",
            "Requirement already satisfied: pluggy<0.8,>=0.5 in /usr/local/lib/python3.7/dist-packages (from pytest->dtreeviz>=1.3.3->mljar-supervised) (0.7.1)\n",
            "Requirement already satisfied: atomicwrites>=1.0 in /usr/local/lib/python3.7/dist-packages (from pytest->dtreeviz>=1.3.3->mljar-supervised) (1.4.0)\n"
          ]
        }
      ],
      "source": [
        "pip install mljar-supervised"
      ]
    },
    {
      "cell_type": "code",
      "execution_count": 3,
      "metadata": {
        "id": "El0nnBOuogwP"
      },
      "outputs": [],
      "source": [
        "import numpy as np\n",
        "import pandas as pd \n",
        "# scikit learn utilites\n",
        "from sklearn.datasets import load_breast_cancer\n",
        "from sklearn.metrics import accuracy_score\n",
        "from sklearn.model_selection import train_test_split\n",
        "from sklearn.preprocessing import LabelEncoder\n",
        "# mljar-supervised package\n",
        "from supervised.automl import AutoML"
      ]
    },
    {
      "cell_type": "code",
      "execution_count": 4,
      "metadata": {
        "colab": {
          "base_uri": "https://localhost:8080/"
        },
        "id": "XHAt7dSdEANb",
        "outputId": "7377fbbd-d81c-41e9-a378-bab023002970"
      },
      "outputs": [
        {
          "output_type": "stream",
          "name": "stdout",
          "text": [
            "Mounted at /content/drive\n"
          ]
        }
      ],
      "source": [
        "from google.colab import drive\n",
        "drive.mount('/content/drive')"
      ]
    },
    {
      "cell_type": "code",
      "execution_count": 5,
      "metadata": {
        "colab": {
          "base_uri": "https://localhost:8080/"
        },
        "id": "l6HhdkEnELW9",
        "outputId": "77c4a809-6728-46ae-bbc3-48fc997bcfaf"
      },
      "outputs": [
        {
          "output_type": "stream",
          "name": "stdout",
          "text": [
            "Number of Rows: 569\n",
            "Number of Columns: 32\n",
            "        X.0    X.2    X.3     X.4     X.5      X.6      X.7     X.8      X.9  \\\n",
            "0    842302  17.99  10.38  122.80  1001.0  0.11840  0.27760  0.3001  0.14710   \n",
            "1    842517  20.57  17.77  132.90  1326.0  0.08474  0.07864  0.0869  0.07017   \n",
            "2  84300903  19.69  21.25  130.00  1203.0  0.10960  0.15990  0.1974  0.12790   \n",
            "3  84348301  11.42  20.38   77.58   386.1  0.14250  0.28390  0.2414  0.10520   \n",
            "4  84358402  20.29  14.34  135.10  1297.0  0.10030  0.13280  0.1980  0.10430   \n",
            "\n",
            "     X.10  ...   X.23    X.24    X.25    X.26    X.27    X.28    X.29    X.30  \\\n",
            "0  0.2419  ...  17.33  184.60  2019.0  0.1622  0.6656  0.7119  0.2654  0.4601   \n",
            "1  0.1812  ...  23.41  158.80  1956.0  0.1238  0.1866  0.2416  0.1860  0.2750   \n",
            "2  0.2069  ...  25.53  152.50  1709.0  0.1444  0.4245  0.4504  0.2430  0.3613   \n",
            "3  0.2597  ...  26.50   98.87   567.7  0.2098  0.8663  0.6869  0.2575  0.6638   \n",
            "4  0.1809  ...  16.67  152.20  1575.0  0.1374  0.2050  0.4000  0.1625  0.2364   \n",
            "\n",
            "      X.31  class  \n",
            "0  0.11890      M  \n",
            "1  0.08902      M  \n",
            "2  0.08758      M  \n",
            "3  0.17300      M  \n",
            "4  0.07678      M  \n",
            "\n",
            "[5 rows x 32 columns]\n"
          ]
        },
        {
          "output_type": "stream",
          "name": "stderr",
          "text": [
            "In a future version of pandas all arguments of DataFrame.drop except for the argument 'labels' will be keyword-only\n"
          ]
        }
      ],
      "source": [
        "df = pd.read_csv('/content/drive/MyDrive/breast cancer datasets/DB1.csv')\n",
        "# basic data preparation\n",
        "X = np.array(df.drop(['class'], 1)) #input\n",
        "#X = X.astype('float32')\n",
        "y = np.array(df['class'])   #output\n",
        "# integer encode\n",
        "y = LabelEncoder().fit_transform(y)\n",
        "# Look at the dataset again\n",
        "print(f'Number of Rows: {df.shape[0]}')\n",
        "print(f'Number of Columns: {df.shape[1]}')\n",
        "print(df.head())"
      ]
    },
    {
      "cell_type": "code",
      "execution_count": 7,
      "metadata": {
        "colab": {
          "base_uri": "https://localhost:8080/"
        },
        "id": "RYFRQ2VuowzK",
        "outputId": "a0bcdb56-9cb2-467d-f9f0-1ded74f509a3"
      },
      "outputs": [
        {
          "output_type": "stream",
          "name": "stdout",
          "text": [
            "AutoML directory: AutoML_2\n",
            "The task is binary_classification with evaluation metric accuracy\n",
            "AutoML will use algorithms: ['Linear', 'Random Forest', 'LightGBM', 'Xgboost', 'CatBoost', 'Neural Network']\n",
            "AutoML will ensemble available models\n",
            "AutoML steps: ['simple_algorithms', 'default_algorithms', 'not_so_random', 'hill_climbing_1', 'hill_climbing_2', 'ensemble']\n",
            "* Step simple_algorithms will try to check up to 1 model\n",
            "1_Linear accuracy 0.942857 trained in 21.86 seconds (1-sample predict time 0.0729 seconds)\n",
            "* Step default_algorithms will try to check up to 5 models\n",
            "2_Default_LightGBM accuracy 0.969231 trained in 25.4 seconds (1-sample predict time 0.1605 seconds)\n",
            "3_Default_Xgboost accuracy 0.956044 trained in 31.36 seconds (1-sample predict time 0.09 seconds)\n",
            "4_Default_CatBoost accuracy 0.971429 trained in 17.64 seconds (1-sample predict time 0.051 seconds)\n",
            "5_Default_NeuralNetwork accuracy 0.916484 trained in 15.36 seconds (1-sample predict time 0.0732 seconds)\n",
            "6_Default_RandomForest accuracy 0.953846 trained in 18.46 seconds (1-sample predict time 0.5606 seconds)\n",
            "* Step not_so_random will try to check up to 20 models\n",
            "11_LightGBM accuracy 0.964835 trained in 15.91 seconds (1-sample predict time 0.047 seconds)\n",
            "7_Xgboost accuracy 0.940659 trained in 29.97 seconds (1-sample predict time 0.1113 seconds)\n",
            "19_RandomForest accuracy 0.96044 trained in 18.85 seconds (1-sample predict time 0.5609 seconds)\n",
            "23_NeuralNetwork accuracy 0.942857 trained in 15.97 seconds (1-sample predict time 0.0686 seconds)\n",
            "12_LightGBM accuracy 0.971429 trained in 17.35 seconds (1-sample predict time 0.0731 seconds)\n",
            "8_Xgboost accuracy 0.956044 trained in 29.88 seconds (1-sample predict time 0.0999 seconds)\n",
            "16_CatBoost accuracy 0.975824 trained in 26.31 seconds (1-sample predict time 0.0503 seconds)\n",
            "20_RandomForest accuracy 0.949451 trained in 18.96 seconds (1-sample predict time 0.5633 seconds)\n",
            "24_NeuralNetwork accuracy 0.949451 trained in 17.48 seconds (1-sample predict time 0.0722 seconds)\n",
            "13_LightGBM accuracy 0.96044 trained in 16.31 seconds (1-sample predict time 0.046 seconds)\n",
            "9_Xgboost accuracy 0.92967 trained in 25.94 seconds (1-sample predict time 0.0946 seconds)\n",
            "17_CatBoost accuracy 0.975824 trained in 21.87 seconds (1-sample predict time 0.0588 seconds)\n",
            "21_RandomForest accuracy 0.949451 trained in 19.76 seconds (1-sample predict time 0.5591 seconds)\n",
            "25_NeuralNetwork accuracy 0.953846 trained in 18.3 seconds (1-sample predict time 0.0665 seconds)\n",
            "14_LightGBM accuracy 0.964835 trained in 17.37 seconds (1-sample predict time 0.0478 seconds)\n",
            "10_Xgboost accuracy 0.624176 trained in 24.81 seconds (1-sample predict time 0.0971 seconds)\n",
            "18_CatBoost accuracy 0.973626 trained in 27.92 seconds (1-sample predict time 0.0518 seconds)\n",
            "22_RandomForest accuracy 0.942857 trained in 20.29 seconds (1-sample predict time 0.5701 seconds)\n",
            "26_NeuralNetwork accuracy 0.931868 trained in 17.69 seconds (1-sample predict time 0.0667 seconds)\n",
            "* Step hill_climbing_1 will try to check up to 15 models\n",
            "27_CatBoost accuracy 0.973626 trained in 20.63 seconds (1-sample predict time 0.062 seconds)\n",
            "28_CatBoost accuracy 0.969231 trained in 38.94 seconds (1-sample predict time 0.0526 seconds)\n",
            "29_LightGBM accuracy 0.969231 trained in 17.6 seconds (1-sample predict time 0.0484 seconds)\n",
            "30_LightGBM accuracy 0.971429 trained in 18.07 seconds (1-sample predict time 0.0456 seconds)\n",
            "31_RandomForest accuracy 0.96044 trained in 20.99 seconds (1-sample predict time 0.5617 seconds)\n",
            "32_RandomForest accuracy 0.964835 trained in 20.8 seconds (1-sample predict time 0.5604 seconds)\n",
            "33_Xgboost accuracy 0.956044 trained in 34.67 seconds (1-sample predict time 0.0889 seconds)\n",
            "34_Xgboost accuracy 0.956044 trained in 34.49 seconds (1-sample predict time 0.0932 seconds)\n",
            "35_Xgboost accuracy 0.956044 trained in 32.33 seconds (1-sample predict time 0.0889 seconds)\n",
            "36_Xgboost accuracy 0.956044 trained in 32.17 seconds (1-sample predict time 0.0889 seconds)\n",
            "37_NeuralNetwork accuracy 0.936264 trained in 19.24 seconds (1-sample predict time 0.0722 seconds)\n",
            "38_RandomForest accuracy 0.953846 trained in 21.31 seconds (1-sample predict time 0.5598 seconds)\n",
            "39_RandomForest accuracy 0.953846 trained in 21.37 seconds (1-sample predict time 0.5645 seconds)\n",
            "40_NeuralNetwork accuracy 0.942857 trained in 19.6 seconds (1-sample predict time 0.0751 seconds)\n",
            "41_NeuralNetwork accuracy 0.938462 trained in 19.67 seconds (1-sample predict time 0.0872 seconds)\n",
            "* Step hill_climbing_2 will try to check up to 9 models\n",
            "42_LightGBM accuracy 0.971429 trained in 19.39 seconds (1-sample predict time 0.0464 seconds)\n",
            "43_LightGBM accuracy 0.971429 trained in 19.66 seconds (1-sample predict time 0.0474 seconds)\n",
            "44_LightGBM accuracy 0.971429 trained in 19.16 seconds (1-sample predict time 0.0492 seconds)\n",
            "45_LightGBM accuracy 0.971429 trained in 19.14 seconds (1-sample predict time 0.0464 seconds)\n",
            "46_RandomForest accuracy 0.956044 trained in 21.88 seconds (1-sample predict time 0.5684 seconds)\n",
            "47_RandomForest accuracy 0.958242 trained in 22.2 seconds (1-sample predict time 0.5803 seconds)\n",
            "48_Xgboost accuracy 0.956044 trained in 35.71 seconds (1-sample predict time 0.093 seconds)\n",
            "49_Xgboost accuracy 0.956044 trained in 33.26 seconds (1-sample predict time 0.0896 seconds)\n",
            "50_Xgboost accuracy 0.956044 trained in 33.08 seconds (1-sample predict time 0.0923 seconds)\n",
            "* Step ensemble will try to check up to 1 model\n",
            "Ensemble accuracy 0.975824 trained in 2.73 seconds (1-sample predict time 0.0582 seconds)\n",
            "AutoML fit time: 1263.18 seconds\n",
            "AutoML best model: 16_CatBoost\n"
          ]
        },
        {
          "output_type": "execute_result",
          "data": {
            "text/plain": [
              "AutoML(eval_metric='accuracy', explain_level=0, features_selection=False,\n",
              "       golden_features=False, mode='Perform')"
            ]
          },
          "metadata": {},
          "execution_count": 7
        }
      ],
      "source": [
        "X_train, X_test, y_train, y_test = train_test_split( X, y, test_size=0.2, random_state=123)\n",
        "# train models with AutoML\n",
        "automl = AutoML(mode=\"Perform\",eval_metric=\"accuracy\")# explain_level=0,train_ensemble=True, golden_features=False,features_selection=False\n",
        "automl.fit(X_train, y_train)"
      ]
    },
    {
      "cell_type": "code",
      "execution_count": null,
      "metadata": {
        "colab": {
          "base_uri": "https://localhost:8080/"
        },
        "id": "vfYCSAZNoxrI",
        "outputId": "f6b43a8b-fc06-4483-c8da-090e55c64846"
      },
      "outputs": [
        {
          "name": "stdout",
          "output_type": "stream",
          "text": [
            "   prediction_0  prediction_1  label\n",
            "0      0.999486      0.000514      0\n",
            "1      0.999346      0.000654      0\n",
            "2      0.002082      0.997918      1\n",
            "3      0.993886      0.006114      0\n",
            "4      0.001411      0.998589      1\n",
            "Test accuracy: 0.9912280701754386\n"
          ]
        }
      ],
      "source": [
        "# compute the accuracy on test data\n",
        "predictions = automl.predict_all(X_test)\n",
        "print(predictions.head())\n",
        "print(\"Test accuracy:\", accuracy_score(y_test, predictions[\"label\"].astype(int)))"
      ]
    },
    {
      "cell_type": "code",
      "execution_count": null,
      "metadata": {
        "id": "Rhj-CVI5RxJI"
      },
      "outputs": [],
      "source": [
        "print(predictions.head())\n",
        "print(predictions.tail())\n",
        "print(X_test.shape, predictions.shape)\n",
        "print(\"LogLoss\", log_loss(y_test, predictions[\"prediction_>50K\"]))"
      ]
    }
  ],
  "metadata": {
    "colab": {
      "collapsed_sections": [],
      "name": "MLjar (autoML library).ipynb",
      "provenance": []
    },
    "kernelspec": {
      "display_name": "Python 3",
      "name": "python3"
    }
  },
  "nbformat": 4,
  "nbformat_minor": 0
}